{
 "cells": [
  {
   "cell_type": "code",
   "execution_count": 17,
   "metadata": {},
   "outputs": [],
   "source": [
    "import pickle\n",
    "import h5py\n",
    "import os\n",
    "from sklearn import svm\n",
    "from statistics import mean\n",
    "from random import shuffle\n",
    "import numpy as np\n",
    "from sklearn.utils import shuffle as shf\n",
    "from sklearn.neural_network import MLPClassifier"
   ]
  },
  {
   "cell_type": "code",
   "execution_count": 18,
   "metadata": {},
   "outputs": [
    {
     "name": "stdout",
     "output_type": "stream",
     "text": [
      "loading data\n"
     ]
    }
   ],
   "source": [
    "data2 = {}\n",
    "print('loading data')\n",
    "for key in os.listdir('E:/Time Series/hdf_files'):\n",
    "\tfilename = 'E:/Time Series/hdf_files/'+ key\n",
    "\tf = h5py.File(filename, 'r')\n",
    "\tdata2[key] = list(list(f.values())[0])\n",
    "\tf.close()"
   ]
  },
  {
   "cell_type": "code",
   "execution_count": 19,
   "metadata": {},
   "outputs": [],
   "source": [
    "data20 = data2"
   ]
  },
  {
   "cell_type": "code",
   "execution_count": 20,
   "metadata": {},
   "outputs": [
    {
     "name": "stdout",
     "output_type": "stream",
     "text": [
      "ALFALFA --- 254001\n",
      "CORN --- 6224142\n",
      "DEVELOPED --- 878386\n",
      "FOREST --- 766945\n",
      "OATS --- 12655\n",
      "RYE --- 5122\n",
      "SOYABEENS --- 5960145\n",
      "WATER_BODY --- 37743\n"
     ]
    }
   ],
   "source": [
    "for key, value in data20.items():\n",
    "    print(key, '---', len(value))\n",
    "    shuffle(data20[key])"
   ]
  },
  {
   "cell_type": "code",
   "execution_count": 21,
   "metadata": {},
   "outputs": [],
   "source": [
    "data = {key:value for key, value in data20.items() if len(value) >= 20000}"
   ]
  },
  {
   "cell_type": "code",
   "execution_count": 22,
   "metadata": {},
   "outputs": [
    {
     "name": "stderr",
     "output_type": "stream",
     "text": [
      "C:\\Users\\prabh\\Anaconda3\\lib\\statistics.py:150: RuntimeWarning: overflow encountered in long_scalars\n",
      "  partials[d] = partials_get(d, 0) + n\n"
     ]
    }
   ],
   "source": [
    "mins = {}; maxs = {}; means = {}\n",
    "for i in range(45):\n",
    "    lin = [l[i] for value in data.values() for l in value]\n",
    "    mins[i] = min(lin)\n",
    "    maxs[i] = max(lin)\n",
    "    means[i] = mean(lin)"
   ]
  },
  {
   "cell_type": "code",
   "execution_count": null,
   "metadata": {},
   "outputs": [
    {
     "name": "stderr",
     "output_type": "stream",
     "text": [
      "C:\\Users\\prabh\\Anaconda3\\lib\\site-packages\\ipykernel_launcher.py:1: RuntimeWarning: overflow encountered in ushort_scalars\n",
      "  \"\"\"Entry point for launching an IPython kernel.\n"
     ]
    }
   ],
   "source": [
    "data = {key: [[np.float64((example[i]-means[i])/(maxs[i] - mins[i])) for i in range(45)] for example in value] for key, value in data.items()}"
   ]
  },
  {
   "cell_type": "code",
   "execution_count": null,
   "metadata": {},
   "outputs": [],
   "source": [
    "training_examples = []\n",
    "training_labels = []\n",
    "i = 0;\n",
    "for key, value in data.items():\n",
    "    training_examples = training_examples + value\n",
    "    training_labels = training_labels + [i for v in range(len(value))]\n",
    "    print(i,':', key)\n",
    "    i+=1"
   ]
  },
  {
   "cell_type": "code",
   "execution_count": null,
   "metadata": {},
   "outputs": [],
   "source": [
    "training_examples, training_labels  = shf(training_examples, training_labels)"
   ]
  },
  {
   "cell_type": "code",
   "execution_count": null,
   "metadata": {},
   "outputs": [],
   "source": [
    "from sklearn import metrics\n",
    "from sklearn.ensemble import ExtraTreesClassifier\n",
    "model = ExtraTreesClassifier()\n",
    "model.fit(training_examples, training_labels)"
   ]
  },
  {
   "cell_type": "code",
   "execution_count": null,
   "metadata": {},
   "outputs": [],
   "source": [
    "s = model.feature_importances_\n",
    "z = [i+1 for i in range(45)]"
   ]
  },
  {
   "cell_type": "code",
   "execution_count": null,
   "metadata": {},
   "outputs": [],
   "source": [
    "import pandas as pd\n",
    "s = pd.Series(s)\n",
    "z = pd.Series(z)\n",
    "df = pd.DataFrame({ 'weight': s, 'band': z })\n",
    "df.to_csv('ppt3.csv')"
   ]
  },
  {
   "cell_type": "code",
   "execution_count": 16,
   "metadata": {},
   "outputs": [],
   "source": [
    "df = pd.DataFrame({ 'weight': s, 'band': z })\n",
    "df.to_csv('ppt2.csv')"
   ]
  },
  {
   "cell_type": "code",
   "execution_count": null,
   "metadata": {},
   "outputs": [],
   "source": []
  }
 ],
 "metadata": {
  "kernelspec": {
   "display_name": "Python 3",
   "language": "python",
   "name": "python3"
  },
  "language_info": {
   "codemirror_mode": {
    "name": "ipython",
    "version": 3
   },
   "file_extension": ".py",
   "mimetype": "text/x-python",
   "name": "python",
   "nbconvert_exporter": "python",
   "pygments_lexer": "ipython3",
   "version": "3.6.5"
  }
 },
 "nbformat": 4,
 "nbformat_minor": 2
}
