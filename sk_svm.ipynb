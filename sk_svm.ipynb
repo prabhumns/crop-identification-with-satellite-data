{
 "cells": [
  {
   "cell_type": "code",
   "execution_count": 1,
   "metadata": {},
   "outputs": [],
   "source": [
    "import pickle\n",
    "from random import shuffle\n",
    "import numpy as np\n",
    "from statistics import mean"
   ]
  },
  {
   "cell_type": "code",
   "execution_count": 2,
   "metadata": {},
   "outputs": [],
   "source": [
    "file_object = open('E:/Time Series/data_collect4.pkl','rb')\n",
    "dicti = pickle.load(file_object)\n",
    "file_object.close()\n",
    "data=  dicti['data']"
   ]
  },
  {
   "cell_type": "code",
   "execution_count": 45,
   "metadata": {},
   "outputs": [],
   "source": [
    "data = data2"
   ]
  },
  {
   "cell_type": "code",
   "execution_count": 3,
   "metadata": {},
   "outputs": [],
   "source": [
    "data = {key:value for key, value in data.items() if len(value)>=11000}"
   ]
  },
  {
   "cell_type": "code",
   "execution_count": 4,
   "metadata": {},
   "outputs": [
    {
     "name": "stdout",
     "output_type": "stream",
     "text": [
      "373991\n",
      "359279\n",
      "42055\n",
      "33403\n",
      "13906\n"
     ]
    }
   ],
   "source": [
    "for value in data.values():\n",
    "    print(len(value))"
   ]
  },
  {
   "cell_type": "code",
   "execution_count": 5,
   "metadata": {},
   "outputs": [],
   "source": [
    "data = {key: [[np.uint16(i) for key2 in ['07','08','09','10','11','12'] for i in list(example[key2])] for example in value] for key, value in data.items()}"
   ]
  },
  {
   "cell_type": "code",
   "execution_count": 6,
   "metadata": {},
   "outputs": [
    {
     "name": "stderr",
     "output_type": "stream",
     "text": [
      "C:\\Users\\prabh\\Anaconda3\\lib\\statistics.py:150: RuntimeWarning: overflow encountered in long_scalars\n",
      "  partials[d] = partials_get(d, 0) + n\n",
      "C:\\Users\\prabh\\Anaconda3\\lib\\site-packages\\ipykernel_launcher.py:8: RuntimeWarning: overflow encountered in ushort_scalars\n",
      "  \n"
     ]
    }
   ],
   "source": [
    "mins = {}; maxs = {}; means = {}\n",
    "for i in range(30):\n",
    "    lin = [l[i] for value in data.values() for l in value]\n",
    "    mins[i] = min(lin)\n",
    "    maxs[i] = max(lin)\n",
    "    means[i] = mean(lin)\n",
    "    \n",
    "data = {key: [[np.float64((example[i]-means[i])/(maxs[i] - mins[i])) for i in range(30)] for example in value] for key, value in data.items()}"
   ]
  },
  {
   "cell_type": "code",
   "execution_count": 8,
   "metadata": {},
   "outputs": [
    {
     "ename": "TypeError",
     "evalue": "list indices must be integers or slices, not str",
     "output_type": "error",
     "traceback": [
      "\u001b[1;31m---------------------------------------------------------------------------\u001b[0m",
      "\u001b[1;31mTypeError\u001b[0m                                 Traceback (most recent call last)",
      "\u001b[1;32m<ipython-input-8-424876a9b5b5>\u001b[0m in \u001b[0;36m<module>\u001b[1;34m()\u001b[0m\n\u001b[0;32m      4\u001b[0m         \u001b[0mlis\u001b[0m \u001b[1;33m=\u001b[0m \u001b[1;33m[\u001b[0m\u001b[1;33m]\u001b[0m\u001b[1;33m\u001b[0m\u001b[0m\n\u001b[0;32m      5\u001b[0m         \u001b[1;32mfor\u001b[0m \u001b[0mkey2\u001b[0m \u001b[1;32min\u001b[0m \u001b[1;33m[\u001b[0m\u001b[1;34m'07'\u001b[0m\u001b[1;33m,\u001b[0m\u001b[1;34m'08'\u001b[0m\u001b[1;33m,\u001b[0m\u001b[1;34m'09'\u001b[0m\u001b[1;33m,\u001b[0m\u001b[1;34m'10'\u001b[0m\u001b[1;33m,\u001b[0m\u001b[1;34m'11'\u001b[0m\u001b[1;33m,\u001b[0m\u001b[1;34m'12'\u001b[0m\u001b[1;33m]\u001b[0m\u001b[1;33m:\u001b[0m\u001b[1;33m\u001b[0m\u001b[0m\n\u001b[1;32m----> 6\u001b[1;33m             \u001b[0mvalue2\u001b[0m \u001b[1;33m=\u001b[0m \u001b[0mlist\u001b[0m\u001b[1;33m(\u001b[0m\u001b[0mexample\u001b[0m\u001b[1;33m[\u001b[0m\u001b[0mkey2\u001b[0m\u001b[1;33m]\u001b[0m\u001b[1;33m)\u001b[0m\u001b[1;33m\u001b[0m\u001b[0m\n\u001b[0m\u001b[0;32m      7\u001b[0m             \u001b[1;32mfor\u001b[0m \u001b[0mi\u001b[0m \u001b[1;32min\u001b[0m \u001b[0mvalue2\u001b[0m\u001b[1;33m:\u001b[0m\u001b[1;33m\u001b[0m\u001b[0m\n\u001b[0;32m      8\u001b[0m                 \u001b[0mlis\u001b[0m\u001b[1;33m.\u001b[0m\u001b[0mappend\u001b[0m\u001b[1;33m(\u001b[0m\u001b[0mnp\u001b[0m\u001b[1;33m.\u001b[0m\u001b[0muint16\u001b[0m\u001b[1;33m(\u001b[0m\u001b[0mi\u001b[0m\u001b[1;33m)\u001b[0m\u001b[1;33m)\u001b[0m\u001b[1;33m\u001b[0m\u001b[0m\n",
      "\u001b[1;31mTypeError\u001b[0m: list indices must be integers or slices, not str"
     ]
    }
   ],
   "source": [
    "for key, value in data.items():\n",
    "    lit = []\n",
    "    for example in value:\n",
    "        lis = []\n",
    "        for key2 in ['07','08','09','10','11','12']:\n",
    "            value2 = list(example[key2])\n",
    "            for i in value2:\n",
    "                lis.append(np.uint16(i))\n",
    "        lit.append(lis)\n",
    "    print(len(lit))\n",
    "    data[key] = lit"
   ]
  },
  {
   "cell_type": "code",
   "execution_count": null,
   "metadata": {},
   "outputs": [],
   "source": [
    "for i in range(30):\n",
    "    lin = []\n",
    "    for key, value in data.items():\n",
    "        if key!= 'info':\n",
    "            for l in value:\n",
    "                lin.append(l[i])\n",
    "    mins = min(lin)\n",
    "    maxs = max(lin)\n",
    "    means = mean(lin)\n",
    "    for key, value in data.items():\n",
    "        for example in value:\n",
    "            example[i] = np.float64((example[i] - means)/(maxs-mins))"
   ]
  },
  {
   "cell_type": "code",
   "execution_count": 37,
   "metadata": {},
   "outputs": [],
   "source": [
    "data = {key:[[example[i] for i in z] for example in value] for key, value in data.items()}"
   ]
  },
  {
   "cell_type": "code",
   "execution_count": 8,
   "metadata": {},
   "outputs": [
    {
     "name": "stdout",
     "output_type": "stream",
     "text": [
      "0 : SOYABEENS\n",
      "1 : CORN\n",
      "2 : DEVELOPED\n",
      "3 : FOREST\n",
      "4 : WATER BODY\n"
     ]
    }
   ],
   "source": [
    "training_examples = []\n",
    "training_labels = []\n",
    "test_examples = []\n",
    "test_labels = []\n",
    "cv_examples = []\n",
    "cv_labels = []\n",
    "i = 0;\n",
    "for key, value in data.items():\n",
    "    training_examples = training_examples + value\n",
    "    #cv_examples = cv_examples + value[9000:10000]\n",
    "    #test_examples = test_examples + value[10000:]\n",
    "    training_labels = training_labels + [i for v in range(len(value))]\n",
    "    #cv_labels = cv_labels + [i for v in range(1000)]\n",
    "    #test_labels = test_labels + [i for v in range(1000)]\n",
    "    print(i,':', key)\n",
    "    i+=1"
   ]
  },
  {
   "cell_type": "code",
   "execution_count": 9,
   "metadata": {},
   "outputs": [],
   "source": [
    "from sklearn.utils import shuffle as shf\n",
    "training_examples, training_labels  = shf(training_examples, training_labels)"
   ]
  },
  {
   "cell_type": "code",
   "execution_count": 10,
   "metadata": {},
   "outputs": [
    {
     "name": "stdout",
     "output_type": "stream",
     "text": [
      "[0.01350754 0.03748171 0.02115452 0.11470832 0.02944654 0.01248136\n",
      " 0.01173304 0.04210681 0.02722356 0.06615367 0.01063188 0.02027277\n",
      " 0.21020426 0.02834952 0.09446321 0.01188471 0.01371606 0.02872199\n",
      " 0.02390051 0.04100186 0.00785542 0.00854562 0.02512004 0.01406708\n",
      " 0.0148071  0.01408034 0.01235434 0.01181332 0.01498143 0.01723149]\n"
     ]
    }
   ],
   "source": [
    "from sklearn import metrics\n",
    "from sklearn.ensemble import ExtraTreesClassifier\n",
    "model = ExtraTreesClassifier()\n",
    "model.fit(training_examples + cv_examples, training_labels + cv_labels)\n",
    "# display the relative importance of each attribute\n",
    "print(model.feature_importances_)\n",
    "s = model.feature_importances_\n",
    "#L = np.array(s)\n",
    "#t = sorted(range(len(L)), key=lambda i:L[i])\n",
    "#z = []\n",
    "#for j in t[::-1]:\n",
    " #   print( j, '-----', s[j])\n",
    "  #  if s[j]>0.03: z.append(j)\n",
    "   # z2.append(s)"
   ]
  },
  {
   "cell_type": "code",
   "execution_count": 13,
   "metadata": {},
   "outputs": [],
   "source": [
    "t= []\n",
    "for i in range(30):\n",
    "    t.append(i+1)"
   ]
  },
  {
   "cell_type": "code",
   "execution_count": 14,
   "metadata": {},
   "outputs": [
    {
     "data": {
      "text/html": [
       "<div>\n",
       "<style scoped>\n",
       "    .dataframe tbody tr th:only-of-type {\n",
       "        vertical-align: middle;\n",
       "    }\n",
       "\n",
       "    .dataframe tbody tr th {\n",
       "        vertical-align: top;\n",
       "    }\n",
       "\n",
       "    .dataframe thead th {\n",
       "        text-align: right;\n",
       "    }\n",
       "</style>\n",
       "<table border=\"1\" class=\"dataframe\">\n",
       "  <thead>\n",
       "    <tr style=\"text-align: right;\">\n",
       "      <th></th>\n",
       "      <th>weight</th>\n",
       "      <th>band</th>\n",
       "    </tr>\n",
       "  </thead>\n",
       "  <tbody>\n",
       "    <tr>\n",
       "      <th>0</th>\n",
       "      <td>0.013508</td>\n",
       "      <td>1</td>\n",
       "    </tr>\n",
       "    <tr>\n",
       "      <th>1</th>\n",
       "      <td>0.037482</td>\n",
       "      <td>2</td>\n",
       "    </tr>\n",
       "    <tr>\n",
       "      <th>2</th>\n",
       "      <td>0.021155</td>\n",
       "      <td>3</td>\n",
       "    </tr>\n",
       "    <tr>\n",
       "      <th>3</th>\n",
       "      <td>0.114708</td>\n",
       "      <td>4</td>\n",
       "    </tr>\n",
       "    <tr>\n",
       "      <th>4</th>\n",
       "      <td>0.029447</td>\n",
       "      <td>5</td>\n",
       "    </tr>\n",
       "    <tr>\n",
       "      <th>5</th>\n",
       "      <td>0.012481</td>\n",
       "      <td>6</td>\n",
       "    </tr>\n",
       "    <tr>\n",
       "      <th>6</th>\n",
       "      <td>0.011733</td>\n",
       "      <td>7</td>\n",
       "    </tr>\n",
       "    <tr>\n",
       "      <th>7</th>\n",
       "      <td>0.042107</td>\n",
       "      <td>8</td>\n",
       "    </tr>\n",
       "    <tr>\n",
       "      <th>8</th>\n",
       "      <td>0.027224</td>\n",
       "      <td>9</td>\n",
       "    </tr>\n",
       "    <tr>\n",
       "      <th>9</th>\n",
       "      <td>0.066154</td>\n",
       "      <td>10</td>\n",
       "    </tr>\n",
       "    <tr>\n",
       "      <th>10</th>\n",
       "      <td>0.010632</td>\n",
       "      <td>11</td>\n",
       "    </tr>\n",
       "    <tr>\n",
       "      <th>11</th>\n",
       "      <td>0.020273</td>\n",
       "      <td>12</td>\n",
       "    </tr>\n",
       "    <tr>\n",
       "      <th>12</th>\n",
       "      <td>0.210204</td>\n",
       "      <td>13</td>\n",
       "    </tr>\n",
       "    <tr>\n",
       "      <th>13</th>\n",
       "      <td>0.028350</td>\n",
       "      <td>14</td>\n",
       "    </tr>\n",
       "    <tr>\n",
       "      <th>14</th>\n",
       "      <td>0.094463</td>\n",
       "      <td>15</td>\n",
       "    </tr>\n",
       "    <tr>\n",
       "      <th>15</th>\n",
       "      <td>0.011885</td>\n",
       "      <td>16</td>\n",
       "    </tr>\n",
       "    <tr>\n",
       "      <th>16</th>\n",
       "      <td>0.013716</td>\n",
       "      <td>17</td>\n",
       "    </tr>\n",
       "    <tr>\n",
       "      <th>17</th>\n",
       "      <td>0.028722</td>\n",
       "      <td>18</td>\n",
       "    </tr>\n",
       "    <tr>\n",
       "      <th>18</th>\n",
       "      <td>0.023901</td>\n",
       "      <td>19</td>\n",
       "    </tr>\n",
       "    <tr>\n",
       "      <th>19</th>\n",
       "      <td>0.041002</td>\n",
       "      <td>20</td>\n",
       "    </tr>\n",
       "    <tr>\n",
       "      <th>20</th>\n",
       "      <td>0.007855</td>\n",
       "      <td>21</td>\n",
       "    </tr>\n",
       "    <tr>\n",
       "      <th>21</th>\n",
       "      <td>0.008546</td>\n",
       "      <td>22</td>\n",
       "    </tr>\n",
       "    <tr>\n",
       "      <th>22</th>\n",
       "      <td>0.025120</td>\n",
       "      <td>23</td>\n",
       "    </tr>\n",
       "    <tr>\n",
       "      <th>23</th>\n",
       "      <td>0.014067</td>\n",
       "      <td>24</td>\n",
       "    </tr>\n",
       "    <tr>\n",
       "      <th>24</th>\n",
       "      <td>0.014807</td>\n",
       "      <td>25</td>\n",
       "    </tr>\n",
       "    <tr>\n",
       "      <th>25</th>\n",
       "      <td>0.014080</td>\n",
       "      <td>26</td>\n",
       "    </tr>\n",
       "    <tr>\n",
       "      <th>26</th>\n",
       "      <td>0.012354</td>\n",
       "      <td>27</td>\n",
       "    </tr>\n",
       "    <tr>\n",
       "      <th>27</th>\n",
       "      <td>0.011813</td>\n",
       "      <td>28</td>\n",
       "    </tr>\n",
       "    <tr>\n",
       "      <th>28</th>\n",
       "      <td>0.014981</td>\n",
       "      <td>29</td>\n",
       "    </tr>\n",
       "    <tr>\n",
       "      <th>29</th>\n",
       "      <td>0.017231</td>\n",
       "      <td>30</td>\n",
       "    </tr>\n",
       "  </tbody>\n",
       "</table>\n",
       "</div>"
      ],
      "text/plain": [
       "      weight  band\n",
       "0   0.013508     1\n",
       "1   0.037482     2\n",
       "2   0.021155     3\n",
       "3   0.114708     4\n",
       "4   0.029447     5\n",
       "5   0.012481     6\n",
       "6   0.011733     7\n",
       "7   0.042107     8\n",
       "8   0.027224     9\n",
       "9   0.066154    10\n",
       "10  0.010632    11\n",
       "11  0.020273    12\n",
       "12  0.210204    13\n",
       "13  0.028350    14\n",
       "14  0.094463    15\n",
       "15  0.011885    16\n",
       "16  0.013716    17\n",
       "17  0.028722    18\n",
       "18  0.023901    19\n",
       "19  0.041002    20\n",
       "20  0.007855    21\n",
       "21  0.008546    22\n",
       "22  0.025120    23\n",
       "23  0.014067    24\n",
       "24  0.014807    25\n",
       "25  0.014080    26\n",
       "26  0.012354    27\n",
       "27  0.011813    28\n",
       "28  0.014981    29\n",
       "29  0.017231    30"
      ]
     },
     "execution_count": 14,
     "metadata": {},
     "output_type": "execute_result"
    }
   ],
   "source": [
    "import pandas as pd\n",
    "s = pd.Series(s)\n",
    "t = pd.Series(t)\n",
    "pd.DataFrame({ 'weight': s, 'band': t })"
   ]
  },
  {
   "cell_type": "code",
   "execution_count": 16,
   "metadata": {},
   "outputs": [],
   "source": [
    "df = pd.DataFrame({ 'weight': s, 'band': t })\n",
    "df.to_csv('ppt.csv')"
   ]
  },
  {
   "cell_type": "code",
   "execution_count": 11,
   "metadata": {},
   "outputs": [
    {
     "name": "stdout",
     "output_type": "stream",
     "text": [
      "[20, 21, 10, 6, 27, 15, 26, 5, 0, 16, 23, 25, 24, 28, 29, 11, 2, 18, 22, 8, 13, 17, 4, 1, 19, 7, 9, 14, 3, 12]\n"
     ]
    }
   ],
   "source": [
    "t = list(range(1, 31))\n",
    "L = np.array(s)\n",
    "t = sorted(range(len(L)), key=lambda i:L[i])\n",
    "print(t)\n",
    "z = []\n",
    "#for j in t[::-1]:\n",
    "    #print( j, '-----', s[j])\n",
    "    #if s[j]>0.03: z.append(j)\n",
    "    #z2.append(s)"
   ]
  },
  {
   "cell_type": "code",
   "execution_count": null,
   "metadata": {},
   "outputs": [],
   "source": []
  },
  {
   "cell_type": "code",
   "execution_count": 40,
   "metadata": {},
   "outputs": [
    {
     "name": "stdout",
     "output_type": "stream",
     "text": [
      "[LibSVM]"
     ]
    },
    {
     "data": {
      "text/plain": [
       "SVC(C=400.0, cache_size=200, class_weight=None, coef0=0.0,\n",
       "  decision_function_shape='ovr', degree=3, gamma='auto', kernel='rbf',\n",
       "  max_iter=-1, probability=False, random_state=None, shrinking=True,\n",
       "  tol=0.001, verbose=True)"
      ]
     },
     "execution_count": 40,
     "metadata": {},
     "output_type": "execute_result"
    }
   ],
   "source": [
    "from sklearn import svm\n",
    "clf = svm.SVC(C = 400.0, tol = 0.001, verbose = True)\n",
    "clf.fit(training_examples, training_labels)"
   ]
  },
  {
   "cell_type": "code",
   "execution_count": 41,
   "metadata": {},
   "outputs": [],
   "source": [
    "import pickle\n",
    "file_object = open('clf.pkl', 'wb')\n",
    "pickle.dump(clf, file_object)\n",
    "file_object.close()"
   ]
  },
  {
   "cell_type": "code",
   "execution_count": 42,
   "metadata": {},
   "outputs": [
    {
     "data": {
      "text/plain": [
       "0.82"
      ]
     },
     "execution_count": 42,
     "metadata": {},
     "output_type": "execute_result"
    }
   ],
   "source": [
    "sum(clf.predict(cv_examples) == cv_labels)/len(cv_labels)"
   ]
  },
  {
   "cell_type": "code",
   "execution_count": 43,
   "metadata": {},
   "outputs": [
    {
     "data": {
      "text/plain": [
       "0.8806444444444445"
      ]
     },
     "execution_count": 43,
     "metadata": {},
     "output_type": "execute_result"
    }
   ],
   "source": [
    "sum(clf.predict(training_examples) == training_labels)/len(training_labels)"
   ]
  },
  {
   "cell_type": "code",
   "execution_count": 233,
   "metadata": {},
   "outputs": [],
   "source": [
    "from sklearn.neural_network import MLPClassifier\n",
    "cnf = MLPClassifier(alpha=1e-3,solver = 'sgd',\n",
    "\thidden_layer_sizes=(30,15,10,4), \n",
    "\tlearning_rate_init = 0.001, \n",
    "\tmax_iter = 1000, \n",
    "\tactivation = 'tanh',\n",
    "\tbatch_size = 100,\n",
    "\ttol = 0.000001,\n",
    "    verbose = True\n",
    "\t)"
   ]
  },
  {
   "cell_type": "code",
   "execution_count": 234,
   "metadata": {},
   "outputs": [
    {
     "name": "stdout",
     "output_type": "stream",
     "text": [
      "Iteration 1, loss = 1.26807988\n",
      "Iteration 2, loss = 1.19372981\n",
      "Iteration 3, loss = 1.17899196\n",
      "Iteration 4, loss = 1.17156842\n",
      "Iteration 5, loss = 1.16493020\n",
      "Iteration 6, loss = 1.15802281\n",
      "Iteration 7, loss = 1.15362085\n",
      "Iteration 8, loss = 1.15142365\n",
      "Iteration 9, loss = 1.14988654\n",
      "Iteration 10, loss = 1.14879949\n",
      "Iteration 11, loss = 1.14786305\n",
      "Iteration 12, loss = 1.14689943\n",
      "Iteration 13, loss = 1.14631363\n",
      "Iteration 14, loss = 1.14583534\n",
      "Iteration 15, loss = 1.14492408\n",
      "Iteration 16, loss = 1.14472470\n",
      "Iteration 17, loss = 1.14384072\n",
      "Iteration 18, loss = 1.14288318\n",
      "Iteration 19, loss = 1.14243831\n",
      "Iteration 20, loss = 1.14084054\n",
      "Iteration 21, loss = 1.13933805\n",
      "Iteration 22, loss = 1.13718415\n",
      "Iteration 23, loss = 1.13477061\n",
      "Iteration 24, loss = 1.13107668\n",
      "Iteration 25, loss = 1.12712950\n",
      "Iteration 26, loss = 1.12117981\n",
      "Iteration 27, loss = 1.11405898\n",
      "Iteration 28, loss = 1.10647516\n",
      "Iteration 29, loss = 1.09826025\n",
      "Iteration 30, loss = 1.09033091\n",
      "Iteration 31, loss = 1.08165387\n",
      "Iteration 32, loss = 1.07266768\n",
      "Iteration 33, loss = 1.06510644\n",
      "Iteration 34, loss = 1.05794363\n",
      "Iteration 35, loss = 1.05141233\n",
      "Iteration 36, loss = 1.04658751\n",
      "Iteration 37, loss = 1.04027497\n",
      "Iteration 38, loss = 1.03558891\n",
      "Iteration 39, loss = 1.03139071\n",
      "Iteration 40, loss = 1.02614498\n",
      "Iteration 41, loss = 1.02365749\n",
      "Iteration 42, loss = 1.02063648\n",
      "Iteration 43, loss = 1.01699435\n",
      "Iteration 44, loss = 1.01326379\n",
      "Iteration 45, loss = 1.01002396\n",
      "Iteration 46, loss = 1.00713563\n",
      "Iteration 47, loss = 1.00561830\n",
      "Iteration 48, loss = 1.00154010\n",
      "Iteration 49, loss = 0.99938737\n",
      "Iteration 50, loss = 0.99588798\n",
      "Iteration 51, loss = 0.99362419\n",
      "Iteration 52, loss = 0.98996663\n",
      "Iteration 53, loss = 0.98710424\n",
      "Iteration 54, loss = 0.98490902\n",
      "Iteration 55, loss = 0.98273820\n",
      "Iteration 56, loss = 0.98007051\n",
      "Iteration 57, loss = 0.97878383\n",
      "Iteration 58, loss = 0.97448023\n",
      "Iteration 59, loss = 0.97346406\n",
      "Iteration 60, loss = 0.97157130\n",
      "Iteration 61, loss = 0.96885483\n",
      "Iteration 62, loss = 0.96809910\n",
      "Iteration 63, loss = 0.96718307\n",
      "Iteration 64, loss = 0.96470682\n",
      "Iteration 65, loss = 0.96247515\n",
      "Iteration 66, loss = 0.96195002\n",
      "Iteration 67, loss = 0.96027887\n",
      "Iteration 68, loss = 0.96372780\n",
      "Iteration 69, loss = 0.95725194\n",
      "Iteration 70, loss = 0.95601560\n",
      "Iteration 71, loss = 0.95283231\n",
      "Iteration 72, loss = 0.95188263\n",
      "Iteration 73, loss = 0.95112509\n",
      "Iteration 74, loss = 0.95018555\n",
      "Iteration 75, loss = 0.94691351\n",
      "Iteration 76, loss = 0.94691356\n",
      "Iteration 77, loss = 0.95795033\n",
      "Iteration 78, loss = 0.94456941\n",
      "Iteration 79, loss = 0.95258430\n",
      "Iteration 80, loss = 0.94708843\n",
      "Iteration 81, loss = 0.94395302\n",
      "Iteration 82, loss = 0.93722594\n",
      "Iteration 83, loss = 0.93590642\n",
      "Iteration 84, loss = 0.94210386\n",
      "Iteration 85, loss = 0.94749164\n",
      "Iteration 86, loss = 0.94279874\n",
      "Training loss did not improve more than tol=0.000001 for two consecutive epochs. Stopping.\n"
     ]
    },
    {
     "data": {
      "text/plain": [
       "MLPClassifier(activation='tanh', alpha=0.001, batch_size=100, beta_1=0.9,\n",
       "       beta_2=0.999, early_stopping=False, epsilon=1e-08,\n",
       "       hidden_layer_sizes=(30, 15, 10, 4), learning_rate='constant',\n",
       "       learning_rate_init=0.001, max_iter=1000, momentum=0.9,\n",
       "       nesterovs_momentum=True, power_t=0.5, random_state=None,\n",
       "       shuffle=True, solver='sgd', tol=1e-06, validation_fraction=0.1,\n",
       "       verbose=True, warm_start=False)"
      ]
     },
     "execution_count": 234,
     "metadata": {},
     "output_type": "execute_result"
    }
   ],
   "source": [
    "cnf.fit(training_examples, training_labels)"
   ]
  },
  {
   "cell_type": "code",
   "execution_count": 235,
   "metadata": {},
   "outputs": [
    {
     "data": {
      "text/plain": [
       "0.58975"
      ]
     },
     "execution_count": 235,
     "metadata": {},
     "output_type": "execute_result"
    }
   ],
   "source": [
    "sum(cnf.predict(cv_examples) == cv_labels)/len(cv_labels)"
   ]
  },
  {
   "cell_type": "code",
   "execution_count": 236,
   "metadata": {},
   "outputs": [
    {
     "data": {
      "text/plain": [
       "0.6173055555555556"
      ]
     },
     "execution_count": 236,
     "metadata": {},
     "output_type": "execute_result"
    }
   ],
   "source": [
    "sum(cnf.predict(training_examples) == training_labels)/len(training_labels)"
   ]
  },
  {
   "cell_type": "code",
   "execution_count": null,
   "metadata": {},
   "outputs": [],
   "source": []
  }
 ],
 "metadata": {
  "kernelspec": {
   "display_name": "Python 3",
   "language": "python",
   "name": "python3"
  },
  "language_info": {
   "codemirror_mode": {
    "name": "ipython",
    "version": 3
   },
   "file_extension": ".py",
   "mimetype": "text/x-python",
   "name": "python",
   "nbconvert_exporter": "python",
   "pygments_lexer": "ipython3",
   "version": "3.6.5"
  }
 },
 "nbformat": 4,
 "nbformat_minor": 2
}
