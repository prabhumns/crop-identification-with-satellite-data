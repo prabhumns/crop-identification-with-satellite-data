{
 "cells": [
  {
   "cell_type": "code",
   "execution_count": 2,
   "metadata": {},
   "outputs": [],
   "source": [
    "import pickle\n",
    "from sklearn import svm\n",
    "from statistics import mean\n",
    "from random import shuffle\n",
    "import numpy as np\n",
    "from sklearn.utils import shuffle as shf\n",
    "from sklearn.neural_network import MLPClassifier"
   ]
  },
  {
   "cell_type": "code",
   "execution_count": 3,
   "metadata": {},
   "outputs": [],
   "source": [
    "file_object = open('E:/Time Series/pra.pkl', 'rb')\n",
    "data2 = pickle.load(file_object)\n",
    "file_object.close()"
   ]
  },
  {
   "cell_type": "code",
   "execution_count": 4,
   "metadata": {},
   "outputs": [
    {
     "name": "stdout",
     "output_type": "stream",
     "text": [
      "SOYABEENS 204639\n",
      "CORN 151407\n",
      "DEVELOPED 12214\n",
      "FOREST 14646\n",
      "WATER BODY 6501\n",
      "ALFALFA 781\n",
      "OATS 25\n"
     ]
    }
   ],
   "source": [
    "for key, value in data2.items():\n",
    "    print (key, len(value))"
   ]
  },
  {
   "cell_type": "code",
   "execution_count": 5,
   "metadata": {},
   "outputs": [],
   "source": [
    "data = data2"
   ]
  },
  {
   "cell_type": "code",
   "execution_count": 6,
   "metadata": {},
   "outputs": [],
   "source": [
    "data = {key:value[:6000] for key, value in data.items() if len(value) >= 6000}"
   ]
  },
  {
   "cell_type": "code",
   "execution_count": 7,
   "metadata": {},
   "outputs": [
    {
     "name": "stderr",
     "output_type": "stream",
     "text": [
      "C:\\Users\\prabh\\Anaconda3\\lib\\site-packages\\ipykernel_launcher.py:8: RuntimeWarning: overflow encountered in ushort_scalars\n",
      "  \n"
     ]
    }
   ],
   "source": [
    "for i in range(45):\n",
    "    lin = [l[i] for value in data.values() for l in value]\n",
    "    mins = min(lin)\n",
    "    maxs = max(lin)\n",
    "    means = mean(lin)\n",
    "    for key, value in data.items():\n",
    "        for example in value:\n",
    "            example[i] = np.float64((example[i] - means)/(maxs-mins))"
   ]
  },
  {
   "cell_type": "code",
   "execution_count": 8,
   "metadata": {},
   "outputs": [
    {
     "name": "stdout",
     "output_type": "stream",
     "text": [
      "0 : SOYABEENS\n",
      "1 : CORN\n",
      "2 : DEVELOPED\n",
      "3 : FOREST\n",
      "4 : WATER BODY\n"
     ]
    }
   ],
   "source": [
    "training_examples = []\n",
    "training_labels = []\n",
    "test_examples = []\n",
    "test_labels = []\n",
    "cv_examples = []\n",
    "cv_labels = []\n",
    "i = 0;\n",
    "for key, value in data.items():\n",
    "    training_examples = training_examples + value[:5000]\n",
    "    cv_examples = cv_examples + value[5000:5500]\n",
    "    test_examples = test_examples + value[5500:]\n",
    "    training_labels = training_labels + [i for v in range(5000)]\n",
    "    cv_labels = cv_labels + [i for v in range(500)]\n",
    "    test_labels = test_labels + [i for v in range(500)]\n",
    "    print(i,':', key)\n",
    "    i+=1"
   ]
  },
  {
   "cell_type": "code",
   "execution_count": 9,
   "metadata": {},
   "outputs": [],
   "source": [
    "training_examples, training_labels  = shf(training_examples, training_labels)"
   ]
  },
  {
   "cell_type": "code",
   "execution_count": 10,
   "metadata": {},
   "outputs": [],
   "source": [
    "clf = svm.SVC(C=30.0, \n",
    "              kernel='rbf', \n",
    "              degree= 3,\n",
    "              gamma='auto',\n",
    "              coef0=0.0, \n",
    "              shrinking=True, \n",
    "              probability=False, \n",
    "              tol=0.001, \n",
    "              cache_size=200, \n",
    "              class_weight=None, \n",
    "              verbose=True, \n",
    "              max_iter=-1, \n",
    "              decision_function_shape='ovr', \n",
    "              random_state=None)\n"
   ]
  },
  {
   "cell_type": "code",
   "execution_count": 11,
   "metadata": {},
   "outputs": [
    {
     "name": "stdout",
     "output_type": "stream",
     "text": [
      "[LibSVM]"
     ]
    },
    {
     "data": {
      "text/plain": [
       "SVC(C=30.0, cache_size=200, class_weight=None, coef0=0.0,\n",
       "  decision_function_shape='ovr', degree=3, gamma='auto', kernel='rbf',\n",
       "  max_iter=-1, probability=False, random_state=None, shrinking=True,\n",
       "  tol=0.001, verbose=True)"
      ]
     },
     "execution_count": 11,
     "metadata": {},
     "output_type": "execute_result"
    }
   ],
   "source": [
    "clf.fit(training_examples, training_labels)"
   ]
  },
  {
   "cell_type": "code",
   "execution_count": 12,
   "metadata": {},
   "outputs": [
    {
     "data": {
      "text/plain": [
       "0.6424"
      ]
     },
     "execution_count": 12,
     "metadata": {},
     "output_type": "execute_result"
    }
   ],
   "source": [
    "sum(clf.predict(cv_examples) == cv_labels)/len(cv_labels)"
   ]
  },
  {
   "cell_type": "code",
   "execution_count": 13,
   "metadata": {},
   "outputs": [
    {
     "data": {
      "text/plain": [
       "0.83784"
      ]
     },
     "execution_count": 13,
     "metadata": {},
     "output_type": "execute_result"
    }
   ],
   "source": [
    "sum(clf.predict(training_examples) == training_labels)/len(training_labels)"
   ]
  },
  {
   "cell_type": "code",
   "execution_count": null,
   "metadata": {},
   "outputs": [],
   "source": [
    "sum(clf.predict(test_examples) == test_labels)/len(test_labels)"
   ]
  },
  {
   "cell_type": "code",
   "execution_count": 22,
   "metadata": {},
   "outputs": [],
   "source": [
    "cnf = MLPClassifier(hidden_layer_sizes=(90),\n",
    "                    activation='relu', \n",
    "                    solver='adam',\n",
    "                    alpha=0.0001, \n",
    "                    batch_size='auto', \n",
    "                    learning_rate='constant',\n",
    "                    learning_rate_init=0.001, \n",
    "                    power_t=0.5, \n",
    "                    max_iter=200, \n",
    "                    shuffle=True, \n",
    "                    random_state=None, \n",
    "                    tol=0.000001, \n",
    "                    verbose=True, \n",
    "                    warm_start=False, \n",
    "                    momentum=0.9, \n",
    "                    nesterovs_momentum=True, \n",
    "                    early_stopping=False, \n",
    "                    validation_fraction=0.1, \n",
    "                    beta_1=0.9, \n",
    "                    beta_2=0.999, \n",
    "                    epsilon=1e-08\n",
    "                   )"
   ]
  },
  {
   "cell_type": "code",
   "execution_count": 23,
   "metadata": {},
   "outputs": [
    {
     "name": "stdout",
     "output_type": "stream",
     "text": [
      "Iteration 1, loss = 1.55050936\n",
      "Iteration 2, loss = 1.30595442\n",
      "Iteration 3, loss = 1.24485983\n",
      "Iteration 4, loss = 1.20875835\n",
      "Iteration 5, loss = 1.18948962\n",
      "Iteration 6, loss = 1.17636109\n",
      "Iteration 7, loss = 1.16889512\n",
      "Iteration 8, loss = 1.15888268\n",
      "Iteration 9, loss = 1.15449949\n",
      "Iteration 10, loss = 1.14374780\n",
      "Iteration 11, loss = 1.13971339\n",
      "Iteration 12, loss = 1.13287547\n",
      "Iteration 13, loss = 1.13272871\n",
      "Iteration 14, loss = 1.12213266\n",
      "Iteration 15, loss = 1.11832970\n",
      "Iteration 16, loss = 1.12036255\n",
      "Iteration 17, loss = 1.11306401\n",
      "Iteration 18, loss = 1.10787009\n",
      "Iteration 19, loss = 1.10587624\n",
      "Iteration 20, loss = 1.10115864\n",
      "Iteration 21, loss = 1.09422995\n",
      "Iteration 22, loss = 1.08990489\n",
      "Iteration 23, loss = 1.08539548\n",
      "Iteration 24, loss = 1.08468120\n",
      "Iteration 25, loss = 1.08189011\n",
      "Iteration 26, loss = 1.07622534\n",
      "Iteration 27, loss = 1.07213428\n",
      "Iteration 28, loss = 1.06629875\n",
      "Iteration 29, loss = 1.06628396\n",
      "Iteration 30, loss = 1.06170795\n",
      "Iteration 31, loss = 1.05604085\n",
      "Iteration 32, loss = 1.04963446\n",
      "Iteration 33, loss = 1.04866265\n",
      "Iteration 34, loss = 1.04394816\n",
      "Iteration 35, loss = 1.04071111\n",
      "Iteration 36, loss = 1.03879966\n",
      "Iteration 37, loss = 1.03188427\n",
      "Iteration 38, loss = 1.03330462\n",
      "Iteration 39, loss = 1.02712776\n",
      "Iteration 40, loss = 1.02278543\n",
      "Iteration 41, loss = 1.02358403\n",
      "Iteration 42, loss = 1.02051868\n",
      "Iteration 43, loss = 1.01771064\n",
      "Iteration 44, loss = 1.01693711\n",
      "Iteration 45, loss = 1.01192448\n",
      "Iteration 46, loss = 1.01324206\n",
      "Iteration 47, loss = 1.00761146\n",
      "Iteration 48, loss = 1.00361730\n",
      "Iteration 49, loss = 1.00060130\n",
      "Iteration 50, loss = 1.00010897\n",
      "Iteration 51, loss = 0.99924233\n",
      "Iteration 52, loss = 0.99476075\n",
      "Iteration 53, loss = 0.99267640\n",
      "Iteration 54, loss = 0.99780379\n",
      "Iteration 55, loss = 0.99221579\n",
      "Iteration 56, loss = 0.99041851\n",
      "Iteration 57, loss = 0.98920476\n",
      "Iteration 58, loss = 0.98806936\n",
      "Iteration 59, loss = 0.98527470\n",
      "Iteration 60, loss = 0.98660480\n",
      "Iteration 61, loss = 0.98005114\n",
      "Iteration 62, loss = 0.98137166\n",
      "Iteration 63, loss = 0.97767270\n",
      "Iteration 64, loss = 0.97831367\n",
      "Iteration 65, loss = 0.97363329\n",
      "Iteration 66, loss = 0.97134662\n",
      "Iteration 67, loss = 0.97100271\n",
      "Iteration 68, loss = 0.96784272\n",
      "Iteration 69, loss = 0.96971999\n",
      "Iteration 70, loss = 0.97026360\n",
      "Iteration 71, loss = 0.96722190\n",
      "Iteration 72, loss = 0.96625432\n",
      "Iteration 73, loss = 0.96294782\n",
      "Iteration 74, loss = 0.96188550\n",
      "Iteration 75, loss = 0.96019351\n",
      "Iteration 76, loss = 0.95975417\n",
      "Iteration 77, loss = 0.95631827\n",
      "Iteration 78, loss = 0.95713704\n",
      "Iteration 79, loss = 0.95628023\n",
      "Iteration 80, loss = 0.95632233\n",
      "Iteration 81, loss = 0.95772961\n",
      "Iteration 82, loss = 0.95072681\n",
      "Iteration 83, loss = 0.94948976\n",
      "Iteration 84, loss = 0.94994836\n",
      "Iteration 85, loss = 0.95003809\n",
      "Iteration 86, loss = 0.94797186\n",
      "Iteration 87, loss = 0.94727536\n",
      "Iteration 88, loss = 0.94695131\n",
      "Iteration 89, loss = 0.94326905\n",
      "Iteration 90, loss = 0.94021572\n",
      "Iteration 91, loss = 0.94032690\n",
      "Iteration 92, loss = 0.94224357\n",
      "Iteration 93, loss = 0.93854354\n",
      "Iteration 94, loss = 0.93708833\n",
      "Iteration 95, loss = 0.93967648\n",
      "Iteration 96, loss = 0.93723423\n",
      "Iteration 97, loss = 0.93537623\n",
      "Iteration 98, loss = 0.93411948\n",
      "Iteration 99, loss = 0.93181481\n",
      "Iteration 100, loss = 0.93382502\n",
      "Iteration 101, loss = 0.92985821\n",
      "Iteration 102, loss = 0.93335023\n",
      "Iteration 103, loss = 0.92656686\n",
      "Iteration 104, loss = 0.92832132\n",
      "Iteration 105, loss = 0.92571734\n",
      "Iteration 106, loss = 0.92720872\n",
      "Iteration 107, loss = 0.92334866\n",
      "Iteration 108, loss = 0.92315643\n",
      "Iteration 109, loss = 0.92223731\n",
      "Iteration 110, loss = 0.92250293\n",
      "Iteration 111, loss = 0.91858980\n",
      "Iteration 112, loss = 0.92357614\n",
      "Iteration 113, loss = 0.91827701\n",
      "Iteration 114, loss = 0.91754078\n",
      "Iteration 115, loss = 0.91788470\n",
      "Iteration 116, loss = 0.91677030\n",
      "Iteration 117, loss = 0.91658538\n",
      "Iteration 118, loss = 0.91592279\n",
      "Iteration 119, loss = 0.91555478\n",
      "Iteration 120, loss = 0.91383258\n",
      "Iteration 121, loss = 0.91187930\n",
      "Iteration 122, loss = 0.91299502\n",
      "Iteration 123, loss = 0.91162686\n",
      "Iteration 124, loss = 0.90929365\n",
      "Iteration 125, loss = 0.90773992\n",
      "Iteration 126, loss = 0.90731117\n",
      "Iteration 127, loss = 0.90459544\n",
      "Iteration 128, loss = 0.90424430\n",
      "Iteration 129, loss = 0.90273380\n",
      "Iteration 130, loss = 0.90314912\n",
      "Iteration 131, loss = 0.90382582\n",
      "Iteration 132, loss = 0.90176735\n",
      "Iteration 133, loss = 0.90245567\n",
      "Iteration 134, loss = 0.89697124\n",
      "Iteration 135, loss = 0.89579584\n",
      "Iteration 136, loss = 0.90017127\n",
      "Iteration 137, loss = 0.89597372\n",
      "Iteration 138, loss = 0.89531522\n",
      "Iteration 139, loss = 0.89768428\n",
      "Iteration 140, loss = 0.89518348\n",
      "Iteration 141, loss = 0.89544560\n",
      "Iteration 142, loss = 0.89262473\n",
      "Iteration 143, loss = 0.89071530\n",
      "Iteration 144, loss = 0.89386205\n",
      "Iteration 145, loss = 0.88849212\n",
      "Iteration 146, loss = 0.88885437\n",
      "Iteration 147, loss = 0.88533727\n",
      "Iteration 148, loss = 0.89076471\n",
      "Iteration 149, loss = 0.88763059\n",
      "Iteration 150, loss = 0.88596845\n",
      "Training loss did not improve more than tol=0.000001 for two consecutive epochs. Stopping.\n"
     ]
    },
    {
     "data": {
      "text/plain": [
       "MLPClassifier(activation='relu', alpha=0.0001, batch_size='auto', beta_1=0.9,\n",
       "       beta_2=0.999, early_stopping=False, epsilon=1e-08,\n",
       "       hidden_layer_sizes=90, learning_rate='constant',\n",
       "       learning_rate_init=0.001, max_iter=200, momentum=0.9,\n",
       "       nesterovs_momentum=True, power_t=0.5, random_state=None,\n",
       "       shuffle=True, solver='adam', tol=1e-06, validation_fraction=0.1,\n",
       "       verbose=True, warm_start=False)"
      ]
     },
     "execution_count": 23,
     "metadata": {},
     "output_type": "execute_result"
    }
   ],
   "source": [
    "cnf.fit(training_examples, training_labels)"
   ]
  },
  {
   "cell_type": "code",
   "execution_count": 24,
   "metadata": {},
   "outputs": [
    {
     "data": {
      "text/plain": [
       "0.5068"
      ]
     },
     "execution_count": 24,
     "metadata": {},
     "output_type": "execute_result"
    }
   ],
   "source": [
    "sum(cnf.predict(cv_examples) == cv_labels)/len(cv_labels)"
   ]
  },
  {
   "cell_type": "code",
   "execution_count": 25,
   "metadata": {},
   "outputs": [
    {
     "data": {
      "text/plain": [
       "0.63912"
      ]
     },
     "execution_count": 25,
     "metadata": {},
     "output_type": "execute_result"
    }
   ],
   "source": [
    "sum(cnf.predict(training_examples) == training_labels)/len(training_labels)"
   ]
  },
  {
   "cell_type": "code",
   "execution_count": null,
   "metadata": {},
   "outputs": [],
   "source": [
    "sum(cnf.predict(test_examples) == test_labels)/len(test_labels)"
   ]
  }
 ],
 "metadata": {
  "kernelspec": {
   "display_name": "Python 3",
   "language": "python",
   "name": "python3"
  },
  "language_info": {
   "codemirror_mode": {
    "name": "ipython",
    "version": 3
   },
   "file_extension": ".py",
   "mimetype": "text/x-python",
   "name": "python",
   "nbconvert_exporter": "python",
   "pygments_lexer": "ipython3",
   "version": "3.6.5"
  }
 },
 "nbformat": 4,
 "nbformat_minor": 2
}
