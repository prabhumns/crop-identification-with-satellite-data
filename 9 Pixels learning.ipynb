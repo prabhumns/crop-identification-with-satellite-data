{
 "cells": [
  {
   "cell_type": "code",
   "execution_count": 1,
   "metadata": {},
   "outputs": [],
   "source": [
    "import pickle\n",
    "from sklearn import svm\n",
    "from statistics import mean\n",
    "from random import shuffle\n",
    "import numpy as np\n",
    "from sklearn.utils import shuffle as shf\n",
    "from sklearn.neural_network import MLPClassifier"
   ]
  },
  {
   "cell_type": "code",
   "execution_count": 2,
   "metadata": {},
   "outputs": [],
   "source": [
    "file_object = open('E:/Time Series/pra.pkl', 'rb')\n",
    "data2 = pickle.load(file_object)\n",
    "file_object.close()"
   ]
  },
  {
   "cell_type": "code",
   "execution_count": 3,
   "metadata": {},
   "outputs": [
    {
     "name": "stdout",
     "output_type": "stream",
     "text": [
      "SOYABEENS 204639\n",
      "CORN 151407\n",
      "DEVELOPED 12214\n",
      "FOREST 14646\n",
      "WATER BODY 6501\n",
      "ALFALFA 781\n",
      "OATS 25\n"
     ]
    }
   ],
   "source": [
    "for key, value in data2.items():\n",
    "    print (key, len(value))"
   ]
  },
  {
   "cell_type": "code",
   "execution_count": 4,
   "metadata": {},
   "outputs": [],
   "source": [
    "data = data2"
   ]
  },
  {
   "cell_type": "code",
   "execution_count": 5,
   "metadata": {},
   "outputs": [],
   "source": [
    "data = {key:value[:6000] for key, value in data.items() if len(value) >= 6000}"
   ]
  },
  {
   "cell_type": "code",
   "execution_count": 6,
   "metadata": {},
   "outputs": [
    {
     "name": "stderr",
     "output_type": "stream",
     "text": [
      "C:\\Users\\prabh\\Anaconda3\\lib\\site-packages\\ipykernel_launcher.py:8: RuntimeWarning: overflow encountered in ushort_scalars\n",
      "  \n"
     ]
    }
   ],
   "source": [
    "for i in range(45):\n",
    "    lin = [l[i] for value in data.values() for l in value]\n",
    "    mins = min(lin)\n",
    "    maxs = max(lin)\n",
    "    means = mean(lin)\n",
    "    for key, value in data.items():\n",
    "        for example in value:\n",
    "            example[i] = np.float64((example[i] - means)/(maxs-mins))"
   ]
  },
  {
   "cell_type": "code",
   "execution_count": 7,
   "metadata": {},
   "outputs": [
    {
     "name": "stdout",
     "output_type": "stream",
     "text": [
      "0 : SOYABEENS\n",
      "1 : CORN\n",
      "2 : DEVELOPED\n",
      "3 : FOREST\n",
      "4 : WATER BODY\n"
     ]
    }
   ],
   "source": [
    "training_examples = []\n",
    "training_labels = []\n",
    "test_examples = []\n",
    "test_labels = []\n",
    "cv_examples = []\n",
    "cv_labels = []\n",
    "i = 0;\n",
    "for key, value in data.items():\n",
    "    training_examples = training_examples + value[:5000]\n",
    "    cv_examples = cv_examples + value[5000:5500]\n",
    "    test_examples = test_examples + value[5500:]\n",
    "    training_labels = training_labels + [i for v in range(5000)]\n",
    "    cv_labels = cv_labels + [i for v in range(500)]\n",
    "    test_labels = test_labels + [i for v in range(500)]\n",
    "    print(i,':', key)\n",
    "    i+=1"
   ]
  },
  {
   "cell_type": "code",
   "execution_count": 8,
   "metadata": {},
   "outputs": [],
   "source": [
    "training_examples, training_labels  = shf(training_examples, training_labels)"
   ]
  },
  {
   "cell_type": "code",
   "execution_count": 10,
   "metadata": {},
   "outputs": [],
   "source": [
    "clf = svm.SVC(C=1.0, \n",
    "              kernel='rbf', \n",
    "              degree= 3,\n",
    "              gamma='auto',\n",
    "              coef0=0.0, \n",
    "              shrinking=True, \n",
    "              probability=False, \n",
    "              tol=0.001, \n",
    "              cache_size=200, \n",
    "              class_weight=None, \n",
    "              verbose=False, \n",
    "              max_iter=-1, \n",
    "              decision_function_shape='ovr', \n",
    "              random_state=None)\n"
   ]
  },
  {
   "cell_type": "code",
   "execution_count": 11,
   "metadata": {},
   "outputs": [
    {
     "data": {
      "text/plain": [
       "SVC(C=1.0, cache_size=200, class_weight=None, coef0=0.0,\n",
       "  decision_function_shape='ovr', degree=3, gamma='auto', kernel='rbf',\n",
       "  max_iter=-1, probability=False, random_state=None, shrinking=True,\n",
       "  tol=0.001, verbose=False)"
      ]
     },
     "execution_count": 11,
     "metadata": {},
     "output_type": "execute_result"
    }
   ],
   "source": [
    "clf.fit(training_examples, training_labels)"
   ]
  },
  {
   "cell_type": "code",
   "execution_count": 12,
   "metadata": {},
   "outputs": [
    {
     "data": {
      "text/plain": [
       "0.5952"
      ]
     },
     "execution_count": 12,
     "metadata": {},
     "output_type": "execute_result"
    }
   ],
   "source": [
    "sum(clf.predict(cv_examples) == cv_labels)/len(cv_labels)"
   ]
  },
  {
   "cell_type": "code",
   "execution_count": 13,
   "metadata": {},
   "outputs": [
    {
     "data": {
      "text/plain": [
       "0.73996"
      ]
     },
     "execution_count": 13,
     "metadata": {},
     "output_type": "execute_result"
    }
   ],
   "source": [
    "sum(clf.predict(training_examples) == training_labels)/len(training_labels)"
   ]
  },
  {
   "cell_type": "code",
   "execution_count": null,
   "metadata": {},
   "outputs": [],
   "source": [
    "sum(clf.predict(test_examples) == test_labels)/len(test_labels)"
   ]
  },
  {
   "cell_type": "code",
   "execution_count": 16,
   "metadata": {},
   "outputs": [],
   "source": [
    "cnf = MLPClassifier(hidden_layer_sizes=(35,25,15),\n",
    "                    activation='relu', \n",
    "                    solver='adam',\n",
    "                    alpha=0.0001, \n",
    "                    batch_size='auto', \n",
    "                    learning_rate='constant',\n",
    "                    learning_rate_init=0.001, \n",
    "                    power_t=0.5, \n",
    "                    max_iter=200, \n",
    "                    shuffle=True, \n",
    "                    random_state=None, \n",
    "                    tol=0.0001, \n",
    "                    verbose=True, \n",
    "                    warm_start=False, \n",
    "                    momentum=0.9, \n",
    "                    nesterovs_momentum=True, \n",
    "                    early_stopping=False, \n",
    "                    validation_fraction=0.1, \n",
    "                    beta_1=0.9, \n",
    "                    beta_2=0.999, \n",
    "                    epsilon=1e-08\n",
    "                   )"
   ]
  },
  {
   "cell_type": "code",
   "execution_count": 17,
   "metadata": {},
   "outputs": [
    {
     "name": "stdout",
     "output_type": "stream",
     "text": [
      "Iteration 1, loss = 1.67210252\n",
      "Iteration 2, loss = 1.32474324\n",
      "Iteration 3, loss = 1.25548438\n",
      "Iteration 4, loss = 1.22481218\n",
      "Iteration 5, loss = 1.20692244\n",
      "Iteration 6, loss = 1.19491155\n",
      "Iteration 7, loss = 1.18350947\n",
      "Iteration 8, loss = 1.17453686\n",
      "Iteration 9, loss = 1.16700448\n",
      "Iteration 10, loss = 1.15733070\n",
      "Iteration 11, loss = 1.15175525\n",
      "Iteration 12, loss = 1.14280619\n",
      "Iteration 13, loss = 1.13340650\n",
      "Iteration 14, loss = 1.12471092\n",
      "Iteration 15, loss = 1.11822020\n",
      "Iteration 16, loss = 1.11097372\n",
      "Iteration 17, loss = 1.10330775\n",
      "Iteration 18, loss = 1.09526727\n",
      "Iteration 19, loss = 1.08659640\n",
      "Iteration 20, loss = 1.07750329\n",
      "Iteration 21, loss = 1.07016043\n",
      "Iteration 22, loss = 1.05846518\n",
      "Iteration 23, loss = 1.04712430\n",
      "Iteration 24, loss = 1.03904937\n",
      "Iteration 25, loss = 1.03193533\n",
      "Iteration 26, loss = 1.02447429\n",
      "Iteration 27, loss = 1.01729283\n",
      "Iteration 28, loss = 1.01303218\n",
      "Iteration 29, loss = 1.00791183\n",
      "Iteration 30, loss = 1.00352053\n",
      "Iteration 31, loss = 0.99898890\n",
      "Iteration 32, loss = 0.99374539\n",
      "Iteration 33, loss = 0.99048167\n",
      "Iteration 34, loss = 0.98412151\n",
      "Iteration 35, loss = 0.98463978\n",
      "Iteration 36, loss = 0.98037816\n",
      "Iteration 37, loss = 0.97435683\n",
      "Iteration 38, loss = 0.97041959\n",
      "Iteration 39, loss = 0.97002784\n",
      "Iteration 40, loss = 0.96515913\n",
      "Iteration 41, loss = 0.96457028\n",
      "Iteration 42, loss = 0.96120266\n",
      "Iteration 43, loss = 0.95753583\n",
      "Iteration 44, loss = 0.95444831\n",
      "Iteration 45, loss = 0.95038341\n",
      "Iteration 46, loss = 0.95027361\n",
      "Iteration 47, loss = 0.94819898\n",
      "Iteration 48, loss = 0.94098737\n",
      "Iteration 49, loss = 0.94262081\n",
      "Iteration 50, loss = 0.94086754\n",
      "Iteration 51, loss = 0.93640181\n",
      "Iteration 52, loss = 0.93258590\n",
      "Iteration 53, loss = 0.92660715\n",
      "Iteration 54, loss = 0.92726773\n",
      "Iteration 55, loss = 0.92286939\n",
      "Iteration 56, loss = 0.91869761\n",
      "Iteration 57, loss = 0.91940632\n",
      "Iteration 58, loss = 0.91929687\n",
      "Iteration 59, loss = 0.91073159\n",
      "Iteration 60, loss = 0.90824561\n",
      "Iteration 61, loss = 0.90776694\n",
      "Iteration 62, loss = 0.90253522\n",
      "Iteration 63, loss = 0.89750034\n",
      "Iteration 64, loss = 0.89443226\n",
      "Iteration 65, loss = 0.89845522\n",
      "Iteration 66, loss = 0.91171025\n",
      "Iteration 67, loss = 0.88681573\n",
      "Iteration 68, loss = 0.88746885\n",
      "Iteration 69, loss = 0.87934116\n",
      "Iteration 70, loss = 0.87460417\n",
      "Iteration 71, loss = 0.86776368\n",
      "Iteration 72, loss = 0.86845480\n",
      "Iteration 73, loss = 0.86134321\n",
      "Iteration 74, loss = 0.86246548\n",
      "Iteration 75, loss = 0.85580273\n",
      "Iteration 76, loss = 0.85395900\n",
      "Iteration 77, loss = 0.84918360\n",
      "Iteration 78, loss = 0.84600214\n",
      "Iteration 79, loss = 0.84528048\n",
      "Iteration 80, loss = 0.83880453\n",
      "Iteration 81, loss = 0.83895024\n",
      "Iteration 82, loss = 0.83003709\n",
      "Iteration 83, loss = 0.82120274\n",
      "Iteration 84, loss = 0.82105049\n",
      "Iteration 85, loss = 0.82487712\n",
      "Iteration 86, loss = 0.82103559\n",
      "Iteration 87, loss = 0.80631723\n",
      "Iteration 88, loss = 0.81538688\n",
      "Iteration 89, loss = 0.81171170\n",
      "Iteration 90, loss = 0.80594157\n",
      "Iteration 91, loss = 0.80786845\n",
      "Iteration 92, loss = 0.79976167\n",
      "Iteration 93, loss = 0.80380382\n",
      "Iteration 94, loss = 0.79841801\n",
      "Iteration 95, loss = 0.80066009\n",
      "Iteration 96, loss = 0.78943108\n",
      "Iteration 97, loss = 0.78454955\n",
      "Iteration 98, loss = 0.78155855\n",
      "Iteration 99, loss = 0.77566961\n",
      "Iteration 100, loss = 0.77474655\n",
      "Iteration 101, loss = 0.77433363\n",
      "Iteration 102, loss = 0.78051295\n",
      "Iteration 103, loss = 0.76877028\n",
      "Iteration 104, loss = 0.77462834\n",
      "Iteration 105, loss = 0.76892474\n",
      "Iteration 106, loss = 0.78550478\n",
      "Training loss did not improve more than tol=0.000100 for two consecutive epochs. Stopping.\n"
     ]
    },
    {
     "data": {
      "text/plain": [
       "MLPClassifier(activation='relu', alpha=0.0001, batch_size='auto', beta_1=0.9,\n",
       "       beta_2=0.999, early_stopping=False, epsilon=1e-08,\n",
       "       hidden_layer_sizes=(35, 25, 15), learning_rate='constant',\n",
       "       learning_rate_init=0.001, max_iter=200, momentum=0.9,\n",
       "       nesterovs_momentum=True, power_t=0.5, random_state=None,\n",
       "       shuffle=True, solver='adam', tol=0.0001, validation_fraction=0.1,\n",
       "       verbose=True, warm_start=False)"
      ]
     },
     "execution_count": 17,
     "metadata": {},
     "output_type": "execute_result"
    }
   ],
   "source": [
    "cnf.fit(training_examples, training_labels)"
   ]
  },
  {
   "cell_type": "code",
   "execution_count": 20,
   "metadata": {},
   "outputs": [
    {
     "data": {
      "text/plain": [
       "0.6476"
      ]
     },
     "execution_count": 20,
     "metadata": {},
     "output_type": "execute_result"
    }
   ],
   "source": [
    "sum(cnf.predict(cv_examples) == cv_labels)/len(cv_labels)"
   ]
  },
  {
   "cell_type": "code",
   "execution_count": 21,
   "metadata": {},
   "outputs": [
    {
     "data": {
      "text/plain": [
       "0.73708"
      ]
     },
     "execution_count": 21,
     "metadata": {},
     "output_type": "execute_result"
    }
   ],
   "source": [
    "sum(cnf.predict(training_examples) == training_labels)/len(training_labels)"
   ]
  },
  {
   "cell_type": "code",
   "execution_count": null,
   "metadata": {},
   "outputs": [],
   "source": [
    "sum(cnf.predict(test_examples) == test_labels)/len(test_labels)"
   ]
  }
 ],
 "metadata": {
  "kernelspec": {
   "display_name": "Python 3",
   "language": "python",
   "name": "python3"
  },
  "language_info": {
   "codemirror_mode": {
    "name": "ipython",
    "version": 3
   },
   "file_extension": ".py",
   "mimetype": "text/x-python",
   "name": "python",
   "nbconvert_exporter": "python",
   "pygments_lexer": "ipython3",
   "version": "3.6.5"
  }
 },
 "nbformat": 4,
 "nbformat_minor": 2
}
