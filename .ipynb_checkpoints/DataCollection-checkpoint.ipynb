{
 "cells": [
  {
   "cell_type": "code",
   "execution_count": null,
   "metadata": {},
   "outputs": [],
   "source": [
    "from osgeo import osr, gdal\n",
    "from openpyxl.workbook import Workbook\n",
    "import sys\n",
    "import pandas as pd"
   ]
  },
  {
   "cell_type": "code",
   "execution_count": null,
   "metadata": {},
   "outputs": [],
   "source": [
    "crops = {1:'Corn', 5:'Soybeans', 27:'Rye', 53:'Peas',28:'Oats'} #number:cropname"
   ]
  },
  {
   "cell_type": "code",
   "execution_count": null,
   "metadata": {},
   "outputs": [],
   "source": [
    "babydatasets = {}\n",
    "for num, cropname in crops.items():\n",
    "    babydatasets[cropname] = []"
   ]
  },
  {
   "cell_type": "code",
   "execution_count": null,
   "metadata": {},
   "outputs": [],
   "source": [
    "cd = gdal.Open('./Cropdata/Cropdata.tif')\n",
    "cd_ncols = cd.RasterXSize\n",
    "cd_nrows = cd.RasterYSize\n",
    "cd_nbands = cd.RasterCount \n",
    "cd_gt = cd.GetGeoTransform()\n",
    "cd_band = cd.GetRasterBand(1)\n",
    "cd_data = cd_band.ReadAsArray(0, 0, cd_ncols, cd_nrows)\n",
    "cd_cs= osr.SpatialReference()\n",
    "cd_cs.ImportFromWkt(cd.GetProjectionRef()"
   ]
  },
  {
   "cell_type": "code",
   "execution_count": null,
   "metadata": {},
   "outputs": [],
   "source": [
    "def Convert(i,j, sd_gt, sd_cs):\n",
    "    transform = osr.CoordinateTransformation(sd_cs,cd_cs)\n",
    "    o1 = sd_gt[0] + i *sd_gt[1] + j*sd_gt[2]\n",
    "    o2 = sd_gt[3] + i *sd_gt[4] + j*sd_gt[5]\n",
    "    return transform.TransformPoint(o1,o2)"
   ]
  },
  {
   "cell_type": "code",
   "execution_count": null,
   "metadata": {},
   "outputs": [],
   "source": [
    "def Crop(i,j, sd_gt, sd_cs):\n",
    "    q = Convert(i,j, sd_gt, sd_cs)\n",
    "    x = int((q[0]-cd_gt[0])/cd_gt[1])\n",
    "    y = int((q[1]-cd_gt[3])/cd_gt[5])\n",
    "    try: \n",
    "        return cd_data[y][x]\n",
    "    except IndexError:\n",
    "        return 0"
   ]
  },
  {
   "cell_type": "code",
   "execution_count": null,
   "metadata": {},
   "outputs": [],
   "source": [
    "def YRN(i,j,sd_gt, sd_cs, crops):\n",
    "    p = Crop(i,j,sd_gt, sd_cs)\n",
    "    if p in crops:\n",
    "        if Crop(i,j+1,sd_gt, sd_cs) == p:\n",
    "            if Crop(i+1,j,sd_gt, sd_cs) == p:\n",
    "                if Crop(i+1,j+1,sd_gt, sd_cs) == p:\n",
    "                    return crops[p]\n",
    "                else:\n",
    "                    return 'USELESS'\n",
    "            else:\n",
    "                return 'USELESS'\n",
    "        else:\n",
    "            return 'USELESS'\n",
    "    else:\n",
    "        return 'USELESS'"
   ]
  },
  {
   "cell_type": "code",
   "execution_count": null,
   "metadata": {},
   "outputs": [],
   "source": [
    "def processsat(file, crops = crops):\n",
    "    croplists1 = {'a':[]}\n",
    "    croplists2 = {'a':[]}\n",
    "    croplists3 = {'a':[]}\n",
    "    croplists4 = {'a':[]}\n",
    "    for nums, name in crops.items():\n",
    "        croplists1[name] = []\n",
    "        croplists2[name] = []\n",
    "        croplists3[name] = []\n",
    "        croplists4[name] = []\n",
    "    del croplists1['a']\n",
    "    del croplists2['a']\n",
    "    del croplists3['a']\n",
    "    del croplists4['a']\n",
    "    sd = gdal.Open(file)\n",
    "    sd_ncols = sd.RasterXSize\n",
    "    sd_nrows = sd.RasterYSize\n",
    "    sd_gt = sd.GetGeoTransform()\n",
    "    sd_data1 = sd.GetRasterBand(1).ReadAsArray(0, 0, sd_ncols, sd_nrows)\n",
    "    sd_data2 = sd.GetRasterBand(2).ReadAsArray(0, 0, sd_ncols, sd_nrows)\n",
    "    sd_data3 = sd.GetRasterBand(3).ReadAsArray(0, 0, sd_ncols, sd_nrows)\n",
    "    sd_data4 = sd.GetRasterBand(4).ReadAsArray(0, 0, sd_ncols, sd_nrows)\n",
    "    sd_cs= osr.SpatialReference()\n",
    "    sd_cs.ImportFromWkt(sd.GetProjectionRef())\n",
    "    l = 1\n",
    "    totalsize = sd_ncols*sd_nrows\n",
    "    for i in range(sd_ncols):\n",
    "        for j in range(sd_nrows):\n",
    "            a = sd_data1[j][i]; b = sd_data2[j][i]; c = sd_data3[j][i]; d = sd_data4[j][i]\n",
    "            if a != 0 or b != 0 or c!= 0 or d!= 0:\n",
    "                yrn = YRN(i,j, sd_gt, sd_cs, crops)\n",
    "                if yrn != 'USELESS':\n",
    "                    croplists1[yrn].append(a)\n",
    "                    croplists2[yrn].append(b)\n",
    "                    croplists3[yrn].append(c)\n",
    "                    croplists4[yrn].append(d)\n",
    "            l = l+1\n",
    "    return croplists1, croplists2, croplists3, croplists4"
   ]
  },
  {
   "cell_type": "code",
   "execution_count": null,
   "metadata": {},
   "outputs": [],
   "source": [
    "satfiles = ['./Satdata1/Satdata1/Satdata1.tif','./Satdata2/Satdata2/Satdata2.tif']\n",
    "for file in satfiles:\n",
    "    croplists1,croplists2, croplists3, croplists4 = processsat(file)\n",
    "    for num , cropname in crops.items():\n",
    "        babydatasets[cropname] = babydatasets[cropname] + list(zip(croplists1[cropname], croplists2[cropname], croplists3[cropname], croplists4[cropname]))\n",
    "    del croplists1; del croplists2; del croplists3; del croplists4"
   ]
  },
  {
   "cell_type": "code",
   "execution_count": null,
   "metadata": {},
   "outputs": [],
   "source": [
    "for name, dataset in babydatasets.items():\n",
    "    df = pd.DataFrame(data = dataset, columns=['band1','band2','band3', 'band4'])\n",
    "    df.to_csv(cropname+'.csv',index=False,header = False)"
   ]
  }
 ],
 "metadata": {
  "kernelspec": {
   "display_name": "Python 3",
   "language": "python",
   "name": "python3"
  },
  "language_info": {
   "codemirror_mode": {
    "name": "ipython",
    "version": 3
   },
   "file_extension": ".py",
   "mimetype": "text/x-python",
   "name": "python",
   "nbconvert_exporter": "python",
   "pygments_lexer": "ipython3",
   "version": "3.6.4"
  }
 },
 "nbformat": 4,
 "nbformat_minor": 2
}
