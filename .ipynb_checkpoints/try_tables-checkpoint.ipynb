{
 "cells": [
  {
   "cell_type": "code",
   "execution_count": 4,
   "metadata": {},
   "outputs": [],
   "source": [
    "import time\n",
    "import gc\n",
    "from osgeo import gdal, osr, ogr, gdal_array\n",
    "import os\n",
    "import numpy as np\n",
    "from numpy.linalg import inv\n",
    "import _pickle as pickle\n",
    "from random import shuffle\n",
    "from shutil import copyfile\n",
    "import tables"
   ]
  },
  {
   "cell_type": "code",
   "execution_count": 5,
   "metadata": {},
   "outputs": [
    {
     "name": "stdout",
     "output_type": "stream",
     "text": [
      "a\n",
      "b\n"
     ]
    }
   ],
   "source": [
    "print('a')\n",
    "file_object = open('E:/Time Series/pra.pkl', 'rb')\n",
    "gc.disable()\n",
    "data2 = pickle.load(file_object)\n",
    "gc.enable()\n",
    "file_object.close()\n",
    "print('b')\n",
    "data = data2['data']"
   ]
  },
  {
   "cell_type": "code",
   "execution_count": 7,
   "metadata": {},
   "outputs": [
    {
     "name": "stdout",
     "output_type": "stream",
     "text": [
      "step time:  2.94498610496521 time until:  2.94498610496521\n",
      "step time:  1.3769440650939941 time until:  4.321930170059204\n",
      "step time:  0.1917128562927246 time until:  4.513643026351929\n",
      "step time:  0.269362211227417 time until:  4.783474922180176\n"
     ]
    },
    {
     "name": "stderr",
     "output_type": "stream",
     "text": [
      "C:\\Users\\prabh\\Anaconda3\\lib\\site-packages\\tables\\path.py:112: NaturalNameWarning: object name is not a valid Python identifier: 'WATER BODY'; it does not match the pattern ``^[a-zA-Z_][a-zA-Z0-9_]*$``; you will not be able to use natural naming to access this object; using ``getattr()`` will still work, though\n",
      "  NaturalNameWarning)\n"
     ]
    },
    {
     "name": "stdout",
     "output_type": "stream",
     "text": [
      "step time:  0.21636533737182617 time until:  5.0147130489349365\n",
      "step time:  0.05290555953979492 time until:  5.069122314453125\n",
      "step time:  0.07433652877807617 time until:  5.143458843231201\n"
     ]
    }
   ],
   "source": [
    "t = time.time()\n",
    "for key, value in data.items():\n",
    "    t2 = time.time()\n",
    "    h5file = tables.open_file('data', mode='w', title=\"Test Array\")\n",
    "    root  = h5file.root\n",
    "    h5file.create_array(root,key, value)\n",
    "    h5file.close()\n",
    "    copyfile(key, key+'.bkp')\n",
    "    print('step time: ', time.time() - t2, 'time until: ', time.time() - t)"
   ]
  },
  {
   "cell_type": "code",
   "execution_count": 8,
   "metadata": {},
   "outputs": [
    {
     "name": "stdout",
     "output_type": "stream",
     "text": [
      "done saving time:  80.75932765007019\n"
     ]
    }
   ],
   "source": [
    "t =time.time()\n",
    "file_object = open('E:/Time Series/pra10.pkl', 'wb')\n",
    "pickle.dump(data2,file_object)\n",
    "file_object.close()\n",
    "copyfile('E:/Time Series/pra10.pkl','E:/Time Series/pra10.bkp' )\n",
    "print('done saving time: ', time.time()-t)"
   ]
  },
  {
   "cell_type": "code",
   "execution_count": 9,
   "metadata": {},
   "outputs": [
    {
     "name": "stdout",
     "output_type": "stream",
     "text": [
      "OATS\n",
      "OATS\n",
      "0.005045890808105469\n"
     ]
    }
   ],
   "source": [
    "import time\n",
    "import h5py\n",
    "t = time.time()\n",
    "filename = 'E:/Time Series/hdf_files/'+'SOYABEENS'\n",
    "f = h5py.File(filename, 'r')\n",
    "a_group_key = list(f.keys())[0]\n",
    "data = list(f[a_group_key])\n",
    "print(time.time() - t)"
   ]
  },
  {
   "cell_type": "code",
   "execution_count": null,
   "metadata": {},
   "outputs": [],
   "source": []
  }
 ],
 "metadata": {
  "kernelspec": {
   "display_name": "Python 3",
   "language": "python",
   "name": "python3"
  },
  "language_info": {
   "codemirror_mode": {
    "name": "ipython",
    "version": 3
   },
   "file_extension": ".py",
   "mimetype": "text/x-python",
   "name": "python",
   "nbconvert_exporter": "python",
   "pygments_lexer": "ipython3",
   "version": "3.6.5"
  }
 },
 "nbformat": 4,
 "nbformat_minor": 2
}
