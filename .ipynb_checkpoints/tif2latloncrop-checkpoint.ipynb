{
 "cells": [
  {
   "cell_type": "code",
   "execution_count": 6,
   "metadata": {},
   "outputs": [],
   "source": [
    "from osgeo import osr, gdal\n",
    "\n",
    "ds = gdal.Open('tests.tif') #reading the image\n",
    "#information\n",
    "width = ds.RasterXSize #horizontal dimension\n",
    "height = ds.RasterYSize #vertical dimension\n",
    "bands = ds.RasterCount #number of bands\n",
    "gt = ds.GetGeoTransform() #information\n",
    "#gt[0] = long of origin in old sys\n",
    "#gt[1] = pixel size along long\n",
    "#gt[2]= name not sure here 0\n",
    "#gt[3] latf origin in old sys\n",
    "#gt[4] name not sure here 0\n",
    "#gt[5]= pixel size along lat\n",
    "#oldsys coordinates = gt[0] + x*gt[1] + y*gt[2], gt[3] + x*gt[4] + y*gt[5]\n",
    "band = ds.GetRasterBand(1) #index of bands start with 1\n",
    "data = band.ReadAsArray(0, 0, width, height) #making it an array"
   ]
  },
  {
   "cell_type": "code",
   "execution_count": 23,
   "metadata": {},
   "outputs": [
    {
     "name": "stdout",
     "output_type": "stream",
     "text": [
      "10263320\n"
     ]
    },
    {
     "data": {
      "text/plain": [
       "10286"
      ]
     },
     "execution_count": 23,
     "metadata": {},
     "output_type": "execute_result"
    }
   ],
   "source": [
    "from PIL import Image\n",
    "import numpy\n",
    "im = Image.open('tests.tif')\n",
    "imarray = numpy.array(im)\n",
    "im.size[0]\n",
    "c = 0\n",
    "'''for i in range(im.size[0]):\n",
    "    for j in range(im.size[1]):\n",
    "        if imarray[j][i] == 32:\n",
    "            c=c+1'''\n",
    "print (im.size[0]*im.size[1])\n"
   ]
  },
  {
   "cell_type": "code",
   "execution_count": 7,
   "metadata": {},
   "outputs": [],
   "source": [
    "#conversion to a geographical coordinates\n",
    "\n",
    "old_cs= osr.SpatialReference() #making a variable\n",
    "old_cs.ImportFromWkt(ds.GetProjectionRef()) #assigning the old format\n",
    "\n",
    "wgs84_wkt = \"\"\"\n",
    "GEOGCS[\"WGS 84\",\n",
    "    DATUM[\"WGS_1984\",\n",
    "        SPHEROID[\"WGS 84\",6378137,298.257223563,\n",
    "            AUTHORITY[\"EPSG\",\"7030\"]],\n",
    "        AUTHORITY[\"EPSG\",\"6326\"]],\n",
    "    PRIMEM[\"Greenwich\",0,\n",
    "        AUTHORITY[\"EPSG\",\"8901\"]],\n",
    "    UNIT[\"degree\",0.01745329251994328,\n",
    "        AUTHORITY[\"EPSG\",\"9122\"]],\n",
    "    AUTHORITY[\"EPSG\",\"4326\"]]\"\"\"\n",
    "\n",
    "new_cs = osr.SpatialReference() #making a variable\n",
    "new_cs .ImportFromWkt(wgs84_wkt) #assigning new format geographical coordinates\n",
    "transform = osr.CoordinateTransformation(old_cs,new_cs) #final transfor function"
   ]
  },
  {
   "cell_type": "code",
   "execution_count": 8,
   "metadata": {},
   "outputs": [],
   "source": [
    "def latlong (x,y):\n",
    "    o1 = gt[0] + x*gt[1] + y*gt[2]\n",
    "    o2 = gt[3] + x*gt[4] + y*gt[5]\n",
    "    return (str(transform.TransformPoint(o1,o2)))"
   ]
  },
  {
   "cell_type": "code",
   "execution_count": 24,
   "metadata": {},
   "outputs": [
    {
     "name": "stdout",
     "output_type": "stream",
     "text": [
      "964724\n"
     ]
    }
   ],
   "source": [
    "c = 0\n",
    "for i in range(width):\n",
    "    for j in range(height):\n",
    "        if data[j][i] == 1:\n",
    "            c = c+1\n",
    "            #print (data[j][i])\n",
    "            #print (c)\n",
    "            #print (latlong(i,j) + latlong(i+1,j) + latlong(i,j+1) + latlong(i+1,j+1))\n",
    "print (c)"
   ]
  },
  {
   "cell_type": "code",
   "execution_count": 25,
   "metadata": {},
   "outputs": [
    {
     "data": {
      "text/plain": [
       "-72032"
      ]
     },
     "execution_count": 25,
     "metadata": {},
     "output_type": "execute_result"
    }
   ],
   "source": [
    "964724-1036756"
   ]
  },
  {
   "cell_type": "code",
   "execution_count": null,
   "metadata": {},
   "outputs": [],
   "source": []
  }
 ],
 "metadata": {
  "kernelspec": {
   "display_name": "Python 3",
   "language": "python",
   "name": "python3"
  },
  "language_info": {
   "codemirror_mode": {
    "name": "ipython",
    "version": 3
   },
   "file_extension": ".py",
   "mimetype": "text/x-python",
   "name": "python",
   "nbconvert_exporter": "python",
   "pygments_lexer": "ipython3",
   "version": "3.6.5"
  }
 },
 "nbformat": 4,
 "nbformat_minor": 2
}
