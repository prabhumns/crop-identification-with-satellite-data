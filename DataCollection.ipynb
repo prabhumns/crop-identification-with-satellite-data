{
 "cells": [
  {
   "cell_type": "code",
   "execution_count": null,
   "metadata": {},
   "outputs": [],
   "source": [
    "from osgeo import osr, gdal\n",
    "from openpyxl.workbook import Workbook"
   ]
  },
  {
   "cell_type": "code",
   "execution_count": null,
   "metadata": {},
   "outputs": [],
   "source": [
    "crops = {} #number:cropname"
   ]
  },
  {
   "cell_type": "code",
   "execution_count": null,
   "metadata": {},
   "outputs": [],
   "source": [
    "wb = Workbook()\n",
    "sheetsdict = {'a': wb.active}\n",
    "for nums, name in crops:\n",
    "    sheetsdict[name]= wb.create_sheet()\n",
    "    sheetsdict[name].title = name"
   ]
  },
  {
   "cell_type": "code",
   "execution_count": null,
   "metadata": {},
   "outputs": [],
   "source": [
    "numexamples = {'a':0}\n",
    "for nums, name in crops:\n",
    "    numexamples[name] = 0\n",
    "del numexamples['a']"
   ]
  },
  {
   "cell_type": "code",
   "execution_count": null,
   "metadata": {},
   "outputs": [],
   "source": [
    "cd = gdal.Open('/Cropdata/Cropdata.tif')\n",
    "cd_ncols = cd.RasterXSize\n",
    "cd_nrows = cd.RasterYSize\n",
    "cd_nbands = cd.RasterCount \n",
    "cd_gt = cd.GetGeoTransform()\n",
    "cd_band = cd.GetRasterBand(1)\n",
    "cd_data = cd_band.ReadAsArray(0, 0, width, height)\n",
    "cd_cs= osr.SpatialReference()\n",
    "cd_cs.ImportFromWkt(cd.GetProjectionRef())"
   ]
  },
  {
   "cell_type": "code",
   "execution_count": null,
   "metadata": {},
   "outputs": [],
   "source": [
    "def Convert(i,j, sd_gt, sd_cs):\n",
    "    transform = osr.CoordinateTransformation(sd_cs,cd_cs)\n",
    "    o1 = sd_gt[0] + i *sd_gt[1] + j*sd_gt[2]\n",
    "    o2 = sd_gt[3] + i *sd_gt[4] + j*sd_gt[5]\n",
    "    return transform.TransformPoint(o1,o2)\n",
    "    "
   ]
  },
  {
   "cell_type": "code",
   "execution_count": null,
   "metadata": {},
   "outputs": [],
   "source": [
    "def Crop(i,j, sd_gt, sd_cs):\n",
    "    q = Convert(i,j, sd_gt, sd_cs)\n",
    "    x = int((q[0]-cd_gt[0])/gt[1])\n",
    "    y = int((q[1]-cd_gt[3])/gt[5])\n",
    "    try: \n",
    "        return data[y][x]\n",
    "    except IndexError:\n",
    "        return 0"
   ]
  },
  {
   "cell_type": "code",
   "execution_count": null,
   "metadata": {},
   "outputs": [],
   "source": [
    "def YRN(i,j,sd_gt, sd_cs, crops):\n",
    "    p = Crop(i,j,sd_gt, sd_cs)\n",
    "    if p in crops:\n",
    "        if Crop(i,j+1,sd_gt, sd_cs) == p:\n",
    "            if Crop(i+1,j,sd_gt, sd_cs) == p:\n",
    "                if Crop(i+1,j+1,sd_gt, sd_cs) == p:\n",
    "                    return crops[p]\n",
    "                else:\n",
    "                    return 'USELESS'\n",
    "            else:\n",
    "                return 'USELESS'\n",
    "        else:\n",
    "            return 'USELESS'\n",
    "    else:\n",
    "        return 'USELESS'\n",
    "    "
   ]
  },
  {
   "cell_type": "code",
   "execution_count": null,
   "metadata": {},
   "outputs": [],
   "source": [
    "def processsat(file, crops = crops):\n",
    "    croplists1 = {'a':[]}\n",
    "    for numbers, names in crops:\n",
    "        croplists1[names] = []\n",
    "    del croplists1['a']\n",
    "    croplists2 = {'a':[]}\n",
    "    for numbers, names in crops:\n",
    "        croplists2[names] = []\n",
    "    del croplists2['a']\n",
    "    croplists3 = {'a':[]}\n",
    "    for numbers, names in crops:\n",
    "        croplists3[names] = []\n",
    "    del croplists3['a']\n",
    "    croplists4 = {'a':[]}\n",
    "    for numbers, names in crops:\n",
    "        croplists4[names] = []\n",
    "    del croplists4['a']\n",
    "    sd = gdal.Open(file)\n",
    "    sd_ncols = sd.RasterXSize\n",
    "    sd_nrows = sd.RasterYSize\n",
    "    sd_nbands = sd.RasterCount \n",
    "    sd_gt = sd.GetGeoTransform()\n",
    "    sd_data1 = sd.GetRasterBand(1).ReadAsArray(0, 0, width, height)\n",
    "    sd_data2 = sd.GetRasterBand(2).ReadAsArray(0, 0, width, height)\n",
    "    sd_data3 = sd.GetRasterBand(3).ReadAsArray(0, 0, width, height)\n",
    "    sd_data4 = sd.GetRasterBand(4).ReadAsArray(0, 0, width, height)\n",
    "    sd_cs= osr.SpatialReference()\n",
    "    sd_cs.ImportFromWkt(cd.GetProjectionRef())\n",
    "    for i in range(sd_ncols):\n",
    "        for j in range(sd_nrows):\n",
    "            if sd_data1[j][i] == 0 and sd_data2[j][i] == 0 and sd_data3[j][i] == 0 and sd_data4[j][i] == 0:\n",
    "                yrn = YRN(i,j, sd_gt, sd_cs, crops)\n",
    "                if yrn != 'USELESS':\n",
    "                    croplists1[yrn].append(sd_data1[j][i])\n",
    "                    croplists2[yrn].append(sd_data2[j][i])\n",
    "                    croplists3[yrn].append(sd_data3[j][i])\n",
    "                    croplists4[yrn].append(sd_data4[j][i])\n",
    "    return croplists1, croplists2, croplists3, croplists4"
   ]
  },
  {
   "cell_type": "code",
   "execution_count": null,
   "metadata": {},
   "outputs": [],
   "source": [
    "def fillcell(croplists, columnnum):\n",
    "    for crop, lst in croplists:\n",
    "        r = numexamples[crop]\n",
    "        sheet = sheetsdict[crop]\n",
    "        for value in lst:\n",
    "            r=r+1\n",
    "            sheet.cell(row = r, column = columnnum).value = value\n",
    "        if columnnum == 4:\n",
    "            numexamples[crop] = r\n",
    "        "
   ]
  },
  {
   "cell_type": "code",
   "execution_count": null,
   "metadata": {},
   "outputs": [],
   "source": [
    "satfiles = ['/Satdata1/Satdata1/Satdata1.tif','/Satdata2/Satdata2/Satdata2.tif']\n",
    "for file in satfiles:\n",
    "    croplists1,croplists2, croplists3, croplists4 = processsat(file) \n",
    "    columnnum = 1\n",
    "    for croplists in [croplists1,croplists2, croplists3, croplists4]:\n",
    "        fillcell(croplists = croplists, columnnum = columnnum)\n",
    "        columnnum = columnnum + 1"
   ]
  },
  {
   "cell_type": "code",
   "execution_count": null,
   "metadata": {},
   "outputs": [],
   "source": [
    "wb.save('labelled_data.xlsx')"
   ]
  }
 ],
 "metadata": {
  "kernelspec": {
   "display_name": "Python 3",
   "language": "python",
   "name": "python3"
  },
  "language_info": {
   "codemirror_mode": {
    "name": "ipython",
    "version": 3
   },
   "file_extension": ".py",
   "mimetype": "text/x-python",
   "name": "python",
   "nbconvert_exporter": "python",
   "pygments_lexer": "ipython3",
   "version": "3.6.4"
  }
 },
 "nbformat": 4,
 "nbformat_minor": 2
}
